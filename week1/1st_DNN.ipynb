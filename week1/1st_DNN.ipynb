{
  "nbformat": 4,
  "nbformat_minor": 0,
  "metadata": {
    "colab": {
      "name": "1st DNN.ipynb",
      "provenance": [],
      "collapsed_sections": []
    },
    "kernelspec": {
      "name": "python3",
      "display_name": "Python 3"
    },
    "accelerator": "GPU"
  },
  "cells": [
    {
      "cell_type": "markdown",
      "metadata": {
        "id": "aNyZv-Ec52ot",
        "colab_type": "text"
      },
      "source": [
        "# **Import Libraries and modules**"
      ]
    },
    {
      "cell_type": "code",
      "metadata": {
        "id": "3m3w1Cw49Zkt",
        "colab_type": "code",
        "colab": {}
      },
      "source": [
        "# https://keras.io/\n",
        "!pip install -q keras\n",
        "import keras"
      ],
      "execution_count": 0,
      "outputs": []
    },
    {
      "cell_type": "code",
      "metadata": {
        "id": "Eso6UHE080D4",
        "colab_type": "code",
        "colab": {}
      },
      "source": [
        "import numpy as np\n",
        "\n",
        "from keras.models import Sequential\n",
        "from keras.layers import Dense, Dropout, Activation, Flatten, Add\n",
        "from keras.layers import Convolution2D, MaxPooling2D\n",
        "from keras.utils import np_utils\n",
        "\n",
        "from keras.datasets import mnist"
      ],
      "execution_count": 0,
      "outputs": []
    },
    {
      "cell_type": "markdown",
      "metadata": {
        "id": "zByEi95J86RD",
        "colab_type": "text"
      },
      "source": [
        "### Load pre-shuffled MNIST data into train and test sets"
      ]
    },
    {
      "cell_type": "code",
      "metadata": {
        "id": "7eRM0QWN83PV",
        "colab_type": "code",
        "colab": {}
      },
      "source": [
        "(X_train, y_train), (X_test, y_test) = mnist.load_data()"
      ],
      "execution_count": 0,
      "outputs": []
    },
    {
      "cell_type": "code",
      "metadata": {
        "id": "4a4Be72j8-ZC",
        "colab_type": "code",
        "outputId": "faa10a2e-728e-46f0-df17-0c776c7720fc",
        "colab": {
          "base_uri": "https://localhost:8080/",
          "height": 299
        }
      },
      "source": [
        "print (X_train.shape)\n",
        "from matplotlib import pyplot as plt\n",
        "%matplotlib inline\n",
        "plt.imshow(X_train[3],cmap=\"gray\")"
      ],
      "execution_count": 134,
      "outputs": [
        {
          "output_type": "stream",
          "text": [
            "(60000, 28, 28)\n"
          ],
          "name": "stdout"
        },
        {
          "output_type": "execute_result",
          "data": {
            "text/plain": [
              "<matplotlib.image.AxesImage at 0x7f81609f5470>"
            ]
          },
          "metadata": {
            "tags": []
          },
          "execution_count": 134
        },
        {
          "output_type": "display_data",
          "data": {
            "image/png": "[encoded data removed]",
            "text/plain": [
              "<Figure size 432x288 with 1 Axes>"
            ]
          },
          "metadata": {
            "tags": []
          }
        }
      ]
    },
    {
      "cell_type": "code",
      "metadata": {
        "id": "44fbrusDxWtN",
        "colab_type": "code",
        "colab": {
          "base_uri": "https://localhost:8080/",
          "height": 299
        },
        "outputId": "fb35aa9b-5dd9-407d-e862-769869c813d6"
      },
      "source": [
        "print (X_train.shape)\n",
        "from matplotlib import pyplot as plt\n",
        "%matplotlib inline\n",
        "plt.imshow(X_train[5],cmap=\"gray\")"
      ],
      "execution_count": 135,
      "outputs": [
        {
          "output_type": "stream",
          "text": [
            "(60000, 28, 28)\n"
          ],
          "name": "stdout"
        },
        {
          "output_type": "execute_result",
          "data": {
            "text/plain": [
              "<matplotlib.image.AxesImage at 0x7f8160930160>"
            ]
          },
          "metadata": {
            "tags": []
          },
          "execution_count": 135
        },
        {
          "output_type": "display_data",
          "data": {
            "image/png": "[encoded data removed]",
            "text/plain": [
              "<Figure size 432x288 with 1 Axes>"
            ]
          },
          "metadata": {
            "tags": []
          }
        }
      ]
    },
    {
      "cell_type": "code",
      "metadata": {
        "id": "dkmprriw9AnZ",
        "colab_type": "code",
        "colab": {}
      },
      "source": [
        "X_train = X_train.reshape(X_train.shape[0], 28, 28,1)\n",
        "X_test = X_test.reshape(X_test.shape[0], 28, 28,1)"
      ],
      "execution_count": 0,
      "outputs": []
    },
    {
      "cell_type": "code",
      "metadata": {
        "id": "X2m4YS4E9CRh",
        "colab_type": "code",
        "colab": {}
      },
      "source": [
        "X_train = X_train.astype('float32')\n",
        "X_test = X_test.astype('float32')\n",
        "X_train /= 255\n",
        "X_test /= 255"
      ],
      "execution_count": 0,
      "outputs": []
    },
    {
      "cell_type": "code",
      "metadata": {
        "id": "0Mn0vAYD9DvB",
        "colab_type": "code",
        "outputId": "b16e2de0-deb2-496b-91c1-054794f2aed7",
        "colab": {
          "base_uri": "https://localhost:8080/",
          "height": 34
        }
      },
      "source": [
        "y_train[:10]"
      ],
      "execution_count": 138,
      "outputs": [
        {
          "output_type": "execute_result",
          "data": {
            "text/plain": [
              "array([5, 0, 4, 1, 9, 2, 1, 3, 1, 4], dtype=uint8)"
            ]
          },
          "metadata": {
            "tags": []
          },
          "execution_count": 138
        }
      ]
    },
    {
      "cell_type": "code",
      "metadata": {
        "id": "ZG8JiXR39FHC",
        "colab_type": "code",
        "colab": {}
      },
      "source": [
        "# Convert 1-dimensional class arrays to 10-dimensional class matrices\n",
        "Y_train = np_utils.to_categorical(y_train, 10)\n",
        "Y_test = np_utils.to_categorical(y_test, 10)"
      ],
      "execution_count": 0,
      "outputs": []
    },
    {
      "cell_type": "code",
      "metadata": {
        "id": "fYlFRvKS9HMB",
        "colab_type": "code",
        "outputId": "9291508d-99ba-4e59-a067-e1545874b3d0",
        "colab": {
          "base_uri": "https://localhost:8080/",
          "height": 187
        }
      },
      "source": [
        "Y_train[:10]\n"
      ],
      "execution_count": 140,
      "outputs": [
        {
          "output_type": "execute_result",
          "data": {
            "text/plain": [
              "array([[0., 0., 0., 0., 0., 1., 0., 0., 0., 0.],\n",
              "       [1., 0., 0., 0., 0., 0., 0., 0., 0., 0.],\n",
              "       [0., 0., 0., 0., 1., 0., 0., 0., 0., 0.],\n",
              "       [0., 1., 0., 0., 0., 0., 0., 0., 0., 0.],\n",
              "       [0., 0., 0., 0., 0., 0., 0., 0., 0., 1.],\n",
              "       [0., 0., 1., 0., 0., 0., 0., 0., 0., 0.],\n",
              "       [0., 1., 0., 0., 0., 0., 0., 0., 0., 0.],\n",
              "       [0., 0., 0., 1., 0., 0., 0., 0., 0., 0.],\n",
              "       [0., 1., 0., 0., 0., 0., 0., 0., 0., 0.],\n",
              "       [0., 0., 0., 0., 1., 0., 0., 0., 0., 0.]], dtype=float32)"
            ]
          },
          "metadata": {
            "tags": []
          },
          "execution_count": 140
        }
      ]
    },
    {
      "cell_type": "code",
      "metadata": {
        "id": "odeE7DOEVKYn",
        "colab_type": "code",
        "colab": {
          "base_uri": "https://localhost:8080/",
          "height": 51
        },
        "outputId": "8a6232da-9052-43f2-ac1a-2c38782d1cca"
      },
      "source": [
        "from keras.layers import Activation\n",
        "model = Sequential()\n",
        "\n",
        " \n",
        "model.add(Convolution2D(32, 3, 3, activation='relu', input_shape=(28,28,1)))\n",
        "model.add(Convolution2D(32, 3, activation='relu'))\n",
        "model.add(Convolution2D(32,3 , activation='relu'))\n",
        "#model1.add(Convolution2D(32,3 , activation='relu'))\n",
        "model.add(MaxPooling2D(pool_size=(2, 2), strides=None, padding='valid', data_format=None))\n",
        "\n",
        "model.add(Convolution2D(32,3 , activation='relu'))\n",
        "model.add(Convolution2D(32,3 , activation='relu'))\n",
        "model.add(Convolution2D(10, 1, activation='relu'))\n",
        "#model1.add(MaxPooling2D(pool_size=(2, 2), strides=None, padding='valid', data_format=None))\n",
        "model.add(Convolution2D(10, 7))\n",
        "model.add(Flatten())\n",
        "model.add(Activation('softmax'))"
      ],
      "execution_count": 141,
      "outputs": [
        {
          "output_type": "stream",
          "text": [
            "/usr/local/lib/python3.6/dist-packages/ipykernel_launcher.py:5: UserWarning: Update your `Conv2D` call to the Keras 2 API: `Conv2D(32, (3, 3), activation=\"relu\", input_shape=(28, 28, 1...)`\n",
            "  \"\"\"\n"
          ],
          "name": "stderr"
        }
      ]
    },
    {
      "cell_type": "code",
      "metadata": {
        "id": "p43gjFIXVTd5",
        "colab_type": "code",
        "colab": {
          "base_uri": "https://localhost:8080/",
          "height": 493
        },
        "outputId": "35fc9fa4-c456-4286-85f2-25ddbb9aee5b"
      },
      "source": [
        "model.summary()"
      ],
      "execution_count": 142,
      "outputs": [
        {
          "output_type": "stream",
          "text": [
            "Model: \"sequential_28\"\n",
            "_________________________________________________________________\n",
            "Layer (type)                 Output Shape              Param #   \n",
            "=================================================================\n",
            "conv2d_145 (Conv2D)          (None, 26, 26, 32)        320       \n",
            "_________________________________________________________________\n",
            "conv2d_146 (Conv2D)          (None, 24, 24, 32)        9248      \n",
            "_________________________________________________________________\n",
            "conv2d_147 (Conv2D)          (None, 22, 22, 32)        9248      \n",
            "_________________________________________________________________\n",
            "max_pooling2d_21 (MaxPooling (None, 11, 11, 32)        0         \n",
            "_________________________________________________________________\n",
            "conv2d_148 (Conv2D)          (None, 9, 9, 32)          9248      \n",
            "_________________________________________________________________\n",
            "conv2d_149 (Conv2D)          (None, 7, 7, 32)          9248      \n",
            "_________________________________________________________________\n",
            "conv2d_150 (Conv2D)          (None, 7, 7, 10)          330       \n",
            "_________________________________________________________________\n",
            "conv2d_151 (Conv2D)          (None, 1, 1, 10)          4910      \n",
            "_________________________________________________________________\n",
            "flatten_19 (Flatten)         (None, 10)                0         \n",
            "_________________________________________________________________\n",
            "activation_19 (Activation)   (None, 10)                0         \n",
            "=================================================================\n",
            "Total params: 42,552\n",
            "Trainable params: 42,552\n",
            "Non-trainable params: 0\n",
            "_________________________________________________________________\n"
          ],
          "name": "stdout"
        }
      ]
    },
    {
      "cell_type": "code",
      "metadata": {
        "id": "sY05NIjQVZ2g",
        "colab_type": "code",
        "colab": {}
      },
      "source": [
        "model.compile(loss='categorical_crossentropy',\n",
        "             optimizer='adam',\n",
        "             metrics=['accuracy'])"
      ],
      "execution_count": 0,
      "outputs": []
    },
    {
      "cell_type": "code",
      "metadata": {
        "id": "yC-89yEXVjlX",
        "colab_type": "code",
        "colab": {
          "base_uri": "https://localhost:8080/",
          "height": 918
        },
        "outputId": "c7c3e21f-4c81-4e8b-c0d5-02605f2d5d85"
      },
      "source": [
        "model.fit(X_train, Y_train, batch_size=32, nb_epoch=25, verbose=1)"
      ],
      "execution_count": 144,
      "outputs": [
        {
          "output_type": "stream",
          "text": [
            "/usr/local/lib/python3.6/dist-packages/ipykernel_launcher.py:1: UserWarning: The `nb_epoch` argument in `fit` has been renamed `epochs`.\n",
            "  \"\"\"Entry point for launching an IPython kernel.\n"
          ],
          "name": "stderr"
        },
        {
          "output_type": "stream",
          "text": [
            "Epoch 1/25\n",
            "60000/60000 [==============================] - 26s 439us/step - loss: 0.1553 - acc: 0.9501\n",
            "Epoch 2/25\n",
            "60000/60000 [==============================] - 24s 401us/step - loss: 0.0502 - acc: 0.9844\n",
            "Epoch 3/25\n",
            "60000/60000 [==============================] - 24s 402us/step - loss: 0.0377 - acc: 0.9885\n",
            "Epoch 4/25\n",
            "60000/60000 [==============================] - 24s 402us/step - loss: 0.0309 - acc: 0.9906\n",
            "Epoch 5/25\n",
            "60000/60000 [==============================] - 24s 402us/step - loss: 0.0273 - acc: 0.9911\n",
            "Epoch 6/25\n",
            "60000/60000 [==============================] - 24s 408us/step - loss: 0.0224 - acc: 0.9931\n",
            "Epoch 7/25\n",
            "60000/60000 [==============================] - 24s 401us/step - loss: 0.0192 - acc: 0.9940\n",
            "Epoch 8/25\n",
            "60000/60000 [==============================] - 24s 401us/step - loss: 0.0176 - acc: 0.9942\n",
            "Epoch 9/25\n",
            "60000/60000 [==============================] - 24s 401us/step - loss: 0.0143 - acc: 0.9953\n",
            "Epoch 10/25\n",
            "60000/60000 [==============================] - 24s 401us/step - loss: 0.0142 - acc: 0.9951\n",
            "Epoch 11/25\n",
            "60000/60000 [==============================] - 24s 400us/step - loss: 0.0111 - acc: 0.9962\n",
            "Epoch 12/25\n",
            "60000/60000 [==============================] - 24s 401us/step - loss: 0.0116 - acc: 0.9961\n",
            "Epoch 13/25\n",
            "60000/60000 [==============================] - 24s 404us/step - loss: 0.0102 - acc: 0.9970\n",
            "Epoch 14/25\n",
            "60000/60000 [==============================] - 24s 400us/step - loss: 0.0101 - acc: 0.9967\n",
            "Epoch 15/25\n",
            "60000/60000 [==============================] - 24s 399us/step - loss: 0.0085 - acc: 0.9971\n",
            "Epoch 16/25\n",
            "60000/60000 [==============================] - 24s 400us/step - loss: 0.0091 - acc: 0.9970\n",
            "Epoch 17/25\n",
            "60000/60000 [==============================] - 24s 398us/step - loss: 0.0080 - acc: 0.9973\n",
            "Epoch 18/25\n",
            "60000/60000 [==============================] - 24s 402us/step - loss: 0.0084 - acc: 0.9972\n",
            "Epoch 19/25\n",
            "60000/60000 [==============================] - 24s 407us/step - loss: 0.0057 - acc: 0.9981\n",
            "Epoch 20/25\n",
            "60000/60000 [==============================] - 24s 400us/step - loss: 0.0087 - acc: 0.9970\n",
            "Epoch 21/25\n",
            "60000/60000 [==============================] - 24s 401us/step - loss: 0.0055 - acc: 0.9983\n",
            "Epoch 22/25\n",
            "60000/60000 [==============================] - 24s 401us/step - loss: 0.0077 - acc: 0.9975\n",
            "Epoch 23/25\n",
            "60000/60000 [==============================] - 24s 399us/step - loss: 0.0062 - acc: 0.9980\n",
            "Epoch 24/25\n",
            "60000/60000 [==============================] - 24s 401us/step - loss: 0.0062 - acc: 0.9981\n",
            "Epoch 25/25\n",
            "60000/60000 [==============================] - 24s 404us/step - loss: 0.0066 - acc: 0.9977\n"
          ],
          "name": "stdout"
        },
        {
          "output_type": "execute_result",
          "data": {
            "text/plain": [
              "<keras.callbacks.History at 0x7f81608e8fd0>"
            ]
          },
          "metadata": {
            "tags": []
          },
          "execution_count": 144
        }
      ]
    },
    {
      "cell_type": "code",
      "metadata": {
        "id": "RKY__wvAWyPx",
        "colab_type": "code",
        "colab": {}
      },
      "source": [
        "score = model.evaluate(X_test, Y_test, verbose=0)"
      ],
      "execution_count": 0,
      "outputs": []
    },
    {
      "cell_type": "code",
      "metadata": {
        "id": "zCAeaudZWz6h",
        "colab_type": "code",
        "colab": {
          "base_uri": "https://localhost:8080/",
          "height": 34
        },
        "outputId": "cba1bbd8-05c0-4098-eec6-517d1b6f7e1e"
      },
      "source": [
        "print(score)"
      ],
      "execution_count": 146,
      "outputs": [
        {
          "output_type": "stream",
          "text": [
            "[0.038846943631432485, 0.9929]\n"
          ],
          "name": "stdout"
        }
      ]
    },
    {
      "cell_type": "code",
      "metadata": {
        "id": "OCWoJkwE9suh",
        "colab_type": "code",
        "colab": {}
      },
      "source": [
        "y_pred = model.predict(X_test)"
      ],
      "execution_count": 0,
      "outputs": []
    },
    {
      "cell_type": "code",
      "metadata": {
        "id": "Ym7iCFBm9uBs",
        "colab_type": "code",
        "outputId": "942c56d8-a0d4-428f-a9e8-15b39c60a969",
        "colab": {
          "base_uri": "https://localhost:8080/",
          "height": 340
        }
      },
      "source": [
        "print(y_pred[:9])\n",
        "print(y_test[:9])"
      ],
      "execution_count": 148,
      "outputs": [
        {
          "output_type": "stream",
          "text": [
            "[[2.5931720e-28 4.6942361e-26 3.1165208e-18 9.7998685e-20 2.1982486e-33\n",
            "  6.3022760e-32 0.0000000e+00 1.0000000e+00 2.5536239e-26 1.5132082e-19]\n",
            " [4.0776379e-22 2.0372435e-22 1.0000000e+00 9.3013665e-27 3.7090811e-21\n",
            "  2.7333716e-36 2.9121145e-20 9.7084762e-29 3.3552901e-20 1.6758245e-35]\n",
            " [4.3198207e-17 1.0000000e+00 4.1152143e-17 5.6795114e-24 1.7220390e-14\n",
            "  3.0103286e-18 8.5575977e-16 1.7298046e-14 6.6359529e-14 3.4373411e-17]\n",
            " [1.0000000e+00 4.6932017e-24 1.5388481e-15 9.0085210e-20 4.3512331e-22\n",
            "  1.1885497e-14 2.0942152e-09 2.1348348e-21 2.3787160e-17 4.2408113e-13]\n",
            " [5.5215386e-22 3.8448968e-18 1.2638532e-15 2.1245432e-27 1.0000000e+00\n",
            "  4.0402386e-25 3.1620222e-13 4.8914417e-21 4.4788006e-15 6.9125498e-14]\n",
            " [2.5898537e-18 1.0000000e+00 1.7623530e-16 1.7841522e-26 2.2551945e-15\n",
            "  2.3183204e-23 2.3438358e-20 3.2342598e-14 9.4123486e-17 1.6393686e-17]\n",
            " [1.9445669e-37 4.6654458e-16 6.3521671e-24 3.1657065e-26 1.0000000e+00\n",
            "  1.8718056e-15 2.5914653e-25 1.7523453e-15 6.3685112e-12 3.0007270e-14]\n",
            " [5.6199725e-21 2.4318347e-21 2.3630841e-20 5.1774968e-22 1.5988012e-10\n",
            "  1.7713675e-20 3.8694593e-23 6.0068584e-19 1.7253601e-17 1.0000000e+00]\n",
            " [5.4292911e-16 5.1089603e-21 6.6872106e-18 1.8097803e-14 1.5843525e-17\n",
            "  9.7655040e-01 2.3449583e-02 4.3698922e-21 6.8940316e-09 2.9328341e-13]]\n",
            "[7 2 1 0 4 1 4 9 5]\n"
          ],
          "name": "stdout"
        }
      ]
    },
    {
      "cell_type": "code",
      "metadata": {
        "id": "CT--y98_dr2T",
        "colab_type": "code",
        "colab": {}
      },
      "source": [
        "layer_dict = dict([(layer.name, layer) for layer in model.layers])"
      ],
      "execution_count": 0,
      "outputs": []
    },
    {
      "cell_type": "code",
      "metadata": {
        "id": "2GY4Upv4dsUR",
        "colab_type": "code",
        "outputId": "0512509e-e0cb-42a4-87eb-87d5554eae0c",
        "colab": {
          "base_uri": "https://localhost:8080/",
          "height": 854
        }
      },
      "source": [
        "import numpy as np\n",
        "from matplotlib import pyplot as plt\n",
        "from keras import backend as K\n",
        "%matplotlib inline\n",
        "# util function to convert a tensor into a valid image\n",
        "def deprocess_image(x):\n",
        "    # normalize tensor: center on 0., ensure std is 0.1\n",
        "    x -= x.mean()\n",
        "    x /= (x.std() + 1e-5)\n",
        "    x *= 0.1\n",
        "\n",
        "    # clip to [0, 1]\n",
        "    x += 0.5\n",
        "    x = np.clip(x, 0, 1)\n",
        "\n",
        "    # convert to RGB array\n",
        "    x *= 255\n",
        "    #x = x.transpose((1, 2, 0))\n",
        "    x = np.clip(x, 0, 255).astype('uint8')\n",
        "    return x\n",
        "\n",
        "def vis_img_in_filter(img = np.array(X_train[2]).reshape((1, 28, 28, 1)).astype(np.float64), \n",
        "                      layer_name = 'conv2d_145'):\n",
        "    layer_output = layer_dict[layer_name].output\n",
        "    img_ascs = list()\n",
        "    for filter_index in range(layer_output.shape[3]):\n",
        "        # build a loss function that maximizes the activation\n",
        "        # of the nth filter of the layer considered\n",
        "        loss = K.mean(layer_output[:, :, :, filter_index])\n",
        "\n",
        "        # compute the gradient of the input picture wrt this loss\n",
        "        grads = K.gradients(loss, model.input)[0]\n",
        "\n",
        "        # normalization trick: we normalize the gradient\n",
        "        grads /= (K.sqrt(K.mean(K.square(grads))) + 1e-5)\n",
        "\n",
        "        # this function returns the loss and grads given the input picture\n",
        "        iterate = K.function([model.input], [loss, grads])\n",
        "\n",
        "        # step size for gradient ascent\n",
        "        step = 5.\n",
        "\n",
        "        img_asc = np.array(img)\n",
        "        # run gradient ascent for 20 steps\n",
        "        for i in range(20):\n",
        "            loss_value, grads_value = iterate([img_asc])\n",
        "            img_asc += grads_value * step\n",
        "\n",
        "        img_asc = img_asc[0]\n",
        "        img_ascs.append(deprocess_image(img_asc).reshape((28, 28)))\n",
        "        \n",
        "    if layer_output.shape[3] >= 35:\n",
        "        plot_x, plot_y = 6, 6\n",
        "    elif layer_output.shape[3] >= 23:\n",
        "        plot_x, plot_y = 4, 6\n",
        "    elif layer_output.shape[3] >= 11:\n",
        "        plot_x, plot_y = 2, 6\n",
        "    else:\n",
        "        plot_x, plot_y = 1, 2\n",
        "    fig, ax = plt.subplots(plot_x, plot_y, figsize = (12, 12))\n",
        "    print(img.shape)\n",
        "    ax[0, 0].imshow(img.reshape((28, 28)), cmap = 'gray')\n",
        "    ax[0, 0].set_title('Input image')\n",
        "    fig.suptitle('Input image and %s filters' % (layer_name,))\n",
        "    fig.tight_layout(pad = 0.3, rect = [0, 0, 0.9, 0.9])\n",
        "    for (x, y) in [(i, j) for i in range(plot_x) for j in range(plot_y)]:\n",
        "        if x == 0 and y == 0:\n",
        "            continue\n",
        "        ax[x, y].imshow(img_ascs[x * plot_y + y - 1], cmap = 'gray')\n",
        "        ax[x, y].set_title('filter %d' % (x * plot_y + y - 1))\n",
        "\n",
        "vis_img_in_filter()"
      ],
      "execution_count": 150,
      "outputs": [
        {
          "output_type": "stream",
          "text": [
            "(1, 28, 28, 1)\n"
          ],
          "name": "stdout"
        },
        {
          "output_type": "display_data",
          "data": {
            "image/png": "[encoded data removed]",
            "text/plain": [
              "<Figure size 864x864 with 24 Axes>"
            ]
          },
          "metadata": {
            "tags": []
          }
        }
      ]
    },
    {
      "cell_type": "code",
      "metadata": {
        "id": "9tvptcn8dxvp",
        "colab_type": "code",
        "colab": {}
      },
      "source": [
        ""
      ],
      "execution_count": 0,
      "outputs": []
    }
  ]
}